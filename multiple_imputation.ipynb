{
  "nbformat": 4,
  "nbformat_minor": 0,
  "metadata": {
    "colab": {
      "name": "imputacion_multiple.ipynb",
      "provenance": [],
      "collapsed_sections": [],
      "authorship_tag": "ABX9TyNe1fauO4xOTIrK8uda0EAt",
      "include_colab_link": true
    },
    "kernelspec": {
      "name": "python3",
      "display_name": "Python 3"
    }
  },
  "cells": [
    {
      "cell_type": "markdown",
      "metadata": {
        "id": "view-in-github",
        "colab_type": "text"
      },
      "source": [
        "<a href=\"https://colab.research.google.com/github/felipe-mesa/Curso_Machine_Learning/blob/master/multiple_imputation.ipynb\" target=\"_parent\"><img src=\"https://colab.research.google.com/assets/colab-badge.svg\" alt=\"Open In Colab\"/></a>"
      ]
    },
    {
      "cell_type": "code",
      "metadata": {
        "id": "p_J0mO5Tg9EH",
        "colab_type": "code",
        "colab": {}
      },
      "source": [
        "#Librerias para procesar datos\n",
        "import pandas as pd   #Libreria para crear y trabajar con dataframes\n",
        "import numpy as np    #Libreria para hacer operaciones matematicas y trabajar con datos faltantes\n",
        "\n",
        "#Librerias para la imputación multiple\n",
        "from sklearn.experimental import enable_iterative_imputer\n",
        "from sklearn.impute import IterativeImputer"
      ],
      "execution_count": 0,
      "outputs": []
    },
    {
      "cell_type": "code",
      "metadata": {
        "id": "mJfPHpliqEvC",
        "colab_type": "code",
        "colab": {}
      },
      "source": [
        "#Leemos la base de datos en Excel y creamos un dataframe\n",
        "df = pd.read_excel('base_1.xls')"
      ],
      "execution_count": 0,
      "outputs": []
    },
    {
      "cell_type": "code",
      "metadata": {
        "id": "FJXKLWLgK2Dj",
        "colab_type": "code",
        "colab": {}
      },
      "source": [
        "#Creamos un subset para la imputación, el cual contendrá en este caso, las columnas de autocompasion desde ac_1 hasta ac_10\n",
        "df_prueba = df.loc[:, 'ac_1':'ac_10']\n",
        "#Guardaremos los nombres de estas columnas para usarlos despues\n",
        "columnas = list(df_prueba.columns)"
      ],
      "execution_count": 0,
      "outputs": []
    },
    {
      "cell_type": "code",
      "metadata": {
        "id": "5OecmyFoos2Y",
        "colab_type": "code",
        "colab": {}
      },
      "source": [
        "#Creamos un objeto del tipo imputador, el cual imputará los datos faltantes a partir de la media\n",
        "imp = IterativeImputer(missing_values=np.nan, max_iter=10, random_state=0, initial_strategy='mean')"
      ],
      "execution_count": 0,
      "outputs": []
    },
    {
      "cell_type": "code",
      "metadata": {
        "id": "TDLDZFLBpqY3",
        "colab_type": "code",
        "colab": {}
      },
      "source": [
        "#Aplicamos el imputador al dataframe. El imputador recibirá un dataframe y devolverá una matriz de tipo numpy-array con los datos imputados\n",
        "df_prueba = imp.fit_transform(df_prueba)"
      ],
      "execution_count": 0,
      "outputs": []
    },
    {
      "cell_type": "code",
      "metadata": {
        "id": "TKpMETDWYlK1",
        "colab_type": "code",
        "colab": {}
      },
      "source": [
        "#Redondeamos los decimales\n",
        "df_prueba = np.around(df_prueba)"
      ],
      "execution_count": 0,
      "outputs": []
    },
    {
      "cell_type": "code",
      "metadata": {
        "id": "U5xnPwq_prOr",
        "colab_type": "code",
        "colab": {}
      },
      "source": [
        "#Convertimos el objeto de tipo numpy-array al tipo pandas-dataframe\n",
        "df_completo = pd.DataFrame(data=df_prueba,columns= columnas)"
      ],
      "execution_count": 0,
      "outputs": []
    },
    {
      "cell_type": "code",
      "metadata": {
        "id": "sgpIUfC1TI7B",
        "colab_type": "code",
        "colab": {}
      },
      "source": [
        "#Guardamos el dataframe como Excel\n",
        "df_completo.to_excel('ac_completo.xls')"
      ],
      "execution_count": 0,
      "outputs": []
    }
  ]
}