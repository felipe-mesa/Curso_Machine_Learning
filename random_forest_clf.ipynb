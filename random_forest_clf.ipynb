{
  "nbformat": 4,
  "nbformat_minor": 0,
  "metadata": {
    "colab": {
      "name": "random_forest_clf.ipynb",
      "provenance": [],
      "authorship_tag": "ABX9TyPr9VD+AvcnopcNe6V5G1ZS",
      "include_colab_link": true
    },
    "kernelspec": {
      "name": "python3",
      "display_name": "Python 3"
    }
  },
  "cells": [
    {
      "cell_type": "markdown",
      "metadata": {
        "id": "view-in-github",
        "colab_type": "text"
      },
      "source": [
        "<a href=\"https://colab.research.google.com/github/felipe-mesa/Machine_Learning_Python/blob/master/random_forest_clf.ipynb\" target=\"_parent\"><img src=\"https://colab.research.google.com/assets/colab-badge.svg\" alt=\"Open In Colab\"/></a>"
      ]
    },
    {
      "cell_type": "code",
      "metadata": {
        "id": "Sus_e-ZgJz9v",
        "colab_type": "code",
        "colab": {}
      },
      "source": [
        "#Importar Librerias\n",
        "import numpy as np\n",
        "import pandas as pd\n",
        "import matplotlib.pyplot as plt"
      ],
      "execution_count": 1,
      "outputs": []
    },
    {
      "cell_type": "code",
      "metadata": {
        "id": "HMwzEdctiI2R",
        "colab_type": "code",
        "colab": {}
      },
      "source": [
        "#Leer el set de datos\n",
        "df = pd.read_csv('/content/Social_Network_Ads.csv')"
      ],
      "execution_count": 2,
      "outputs": []
    },
    {
      "cell_type": "code",
      "metadata": {
        "id": "qDguOWtbiJ8y",
        "colab_type": "code",
        "colab": {}
      },
      "source": [
        "#Separa el dataset en una matriz X de variables independientes y un vector y de la variable dependiente\n",
        "X = df.iloc[:, :-1].values\n",
        "y = df.iloc[:, -1].values"
      ],
      "execution_count": 3,
      "outputs": []
    },
    {
      "cell_type": "code",
      "metadata": {
        "id": "KA160FJ9iMK5",
        "colab_type": "code",
        "colab": {}
      },
      "source": [
        "###DIVIDIR EL SET EN TRAINING SET Y TEST SET\n",
        "from sklearn.model_selection import train_test_split\n",
        "X_train, X_test, y_train, y_test = train_test_split(X, y, test_size = 0.25, random_state = 1)"
      ],
      "execution_count": 5,
      "outputs": []
    },
    {
      "cell_type": "code",
      "metadata": {
        "id": "92oAyb9XiQhg",
        "colab_type": "code",
        "colab": {}
      },
      "source": [
        "#FEATURE SCALING (ESCALADOR)\n",
        "from sklearn.preprocessing import StandardScaler\n",
        "#Calcula media y std y la aplica al dataset, no a las variables dummy\n",
        "sc = StandardScaler()\n",
        "\n",
        "#(Recordar que X_train es un arreglo numpy)\n",
        "X_train  = sc.fit_transform(X_train)\n",
        "#Hay que usar el mismo escalador en el train set y el test set, NO hay que usar fit ya que se hizo un fit en el train set\n",
        "X_test  = sc.transform(X_test)"
      ],
      "execution_count": 9,
      "outputs": []
    },
    {
      "cell_type": "code",
      "metadata": {
        "id": "iung_jYiiTYy",
        "colab_type": "code",
        "colab": {
          "base_uri": "https://localhost:8080/",
          "height": 153
        },
        "outputId": "c4ad7298-5156-46bc-ded6-07c89a22e424"
      },
      "source": [
        "#Entrenar el modelo\n",
        "from sklearn.ensemble import RandomForestClassifier\n",
        "clf = RandomForestClassifier(max_depth=400, criterion = 'entropy', random_state=0)\n",
        "clf.fit(X_train, y_train)"
      ],
      "execution_count": 18,
      "outputs": [
        {
          "output_type": "execute_result",
          "data": {
            "text/plain": [
              "RandomForestClassifier(bootstrap=True, ccp_alpha=0.0, class_weight=None,\n",
              "                       criterion='entropy', max_depth=400, max_features='auto',\n",
              "                       max_leaf_nodes=None, max_samples=None,\n",
              "                       min_impurity_decrease=0.0, min_impurity_split=None,\n",
              "                       min_samples_leaf=1, min_samples_split=2,\n",
              "                       min_weight_fraction_leaf=0.0, n_estimators=100,\n",
              "                       n_jobs=None, oob_score=False, random_state=0, verbose=0,\n",
              "                       warm_start=False)"
            ]
          },
          "metadata": {
            "tags": []
          },
          "execution_count": 18
        }
      ]
    },
    {
      "cell_type": "code",
      "metadata": {
        "id": "XqcKtZlrizBv",
        "colab_type": "code",
        "colab": {}
      },
      "source": [
        "#Predecir el test set\n",
        "y_pred = clf.predict(X_test)"
      ],
      "execution_count": 19,
      "outputs": []
    },
    {
      "cell_type": "code",
      "metadata": {
        "id": "0YWpbyMXi0Ax",
        "colab_type": "code",
        "colab": {
          "base_uri": "https://localhost:8080/",
          "height": 68
        },
        "outputId": "75153329-89f7-4dde-b292-f180a6f5357e"
      },
      "source": [
        "#Matriz de confusion para evaluar el modelo\n",
        "from sklearn.metrics import confusion_matrix, accuracy_score\n",
        "cm = confusion_matrix(y_test, y_pred)\n",
        "print(cm)\n",
        "accuracy_score(y_test, y_pred)"
      ],
      "execution_count": 20,
      "outputs": [
        {
          "output_type": "stream",
          "text": [
            "[[50  8]\n",
            " [ 3 39]]\n"
          ],
          "name": "stdout"
        },
        {
          "output_type": "execute_result",
          "data": {
            "text/plain": [
              "0.89"
            ]
          },
          "metadata": {
            "tags": []
          },
          "execution_count": 20
        }
      ]
    },
    {
      "cell_type": "code",
      "metadata": {
        "id": "gHIuVpsEi2dB",
        "colab_type": "code",
        "colab": {}
      },
      "source": [
        "#Visualizar los resultados del training set (este codigo solo sirve para 2 variables)\n",
        "#Probablemente esta visualizacion no la use mucho\n",
        "#Se puede ver por la linea que separa el plano, que random forest funciona como un modelo lineal\n",
        "from matplotlib.colors import ListedColormap\n",
        "X_set, y_set = sc.inverse_transform(X_train), y_train\n",
        "X1, X2 = np.meshgrid(np.arange(start = X_set[:, 0].min() - 10, stop = X_set[:, 0].max() + 10, step = 0.25),\n",
        "                     np.arange(start = X_set[:, 1].min() - 1000, stop = X_set[:, 1].max() + 1000, step = 0.25))\n",
        "plt.contourf(X1, X2, clf.predict(sc.transform(np.array([X1.ravel(), X2.ravel()]).T)).reshape(X1.shape),\n",
        "             alpha = 0.75, cmap = ListedColormap(('red', 'green')))\n",
        "plt.xlim(X1.min(), X1.max())\n",
        "plt.ylim(X2.min(), X2.max())\n",
        "for i, j in enumerate(np.unique(y_set)):\n",
        "    plt.scatter(X_set[y_set == j, 0], X_set[y_set == j, 1], c = ListedColormap(('red', 'green'))(i), label = j)\n",
        "plt.title('Logistic Regression (Training set)')\n",
        "plt.xlabel('Age')\n",
        "plt.ylabel('Estimated Salary')\n",
        "plt.legend()\n",
        "plt.show()"
      ],
      "execution_count": null,
      "outputs": []
    }
  ]
}