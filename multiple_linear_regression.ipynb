{
  "nbformat": 4,
  "nbformat_minor": 0,
  "metadata": {
    "colab": {
      "name": "multiple_linear_regression.ipynb",
      "provenance": [],
      "collapsed_sections": [],
      "authorship_tag": "ABX9TyN1mBnmGB+6IgOfZd7xP4VP",
      "include_colab_link": true
    },
    "kernelspec": {
      "name": "python3",
      "display_name": "Python 3"
    }
  },
  "cells": [
    {
      "cell_type": "markdown",
      "metadata": {
        "id": "view-in-github",
        "colab_type": "text"
      },
      "source": [
        "<a href=\"https://colab.research.google.com/github/felipe-mesa/Curso_Machine_Learning/blob/master/multiple_linear_regression.ipynb\" target=\"_parent\"><img src=\"https://colab.research.google.com/assets/colab-badge.svg\" alt=\"Open In Colab\"/></a>"
      ]
    },
    {
      "cell_type": "code",
      "metadata": {
        "id": "61nJm62orwCU",
        "colab_type": "code",
        "colab": {}
      },
      "source": [
        "import pandas as pd\n",
        "import numpy as np\n",
        "import matplotlib.pyplot as plt"
      ],
      "execution_count": 1,
      "outputs": []
    },
    {
      "cell_type": "code",
      "metadata": {
        "id": "GAQmmKP33Fdb",
        "colab_type": "code",
        "colab": {}
      },
      "source": [
        "#FIJARSE QUE LA VARIABLE Y ESTE AL FINAL DEL DATASET\n",
        "dataset = pd.read_csv('/content/50_Startups.csv')\n",
        "X = dataset.iloc[:, :-1].values\n",
        "y = dataset.iloc[:, -1].values"
      ],
      "execution_count": 2,
      "outputs": []
    },
    {
      "cell_type": "code",
      "metadata": {
        "id": "eXXSqjCE3TDy",
        "colab_type": "code",
        "colab": {}
      },
      "source": [
        "#ENCODING CATEGORICAL DATA  \n",
        "from sklearn.preprocessing import OneHotEncoder\n",
        "from sklearn.compose import ColumnTransformer\n",
        "\n",
        "#Transforma los numeros de la variable categorica \"nueva_variable\", columna [i], en n variables binarias\n",
        "ct = ColumnTransformer([('encoder', OneHotEncoder(), [3])], remainder = 'passthrough')\n",
        "\n",
        "#Agrega las variables binarias a la matriz\n",
        "X = np.array(ct.fit_transform(X))"
      ],
      "execution_count": 4,
      "outputs": []
    },
    {
      "cell_type": "code",
      "metadata": {
        "id": "lCVwN42v6zE3",
        "colab_type": "code",
        "colab": {}
      },
      "source": [
        "#En regresion multiple no hay necesidad de usar un escalador"
      ],
      "execution_count": null,
      "outputs": []
    },
    {
      "cell_type": "code",
      "metadata": {
        "id": "Nj8hhQVx9HfN",
        "colab_type": "code",
        "colab": {}
      },
      "source": [
        "#Separar los datos en train y test set\n",
        "from sklearn.model_selection import train_test_split\n",
        "X_train, X_test, y_train, y_test = train_test_split(X, y, test_size = 0.2, random_state=0)"
      ],
      "execution_count": 6,
      "outputs": []
    },
    {
      "cell_type": "code",
      "metadata": {
        "id": "21Ks6c4p9_jG",
        "colab_type": "code",
        "colab": {}
      },
      "source": [
        "#Entrenar el modelo\n",
        "from sklearn.linear_model import LinearRegression\n",
        "regressor = LinearRegression()\n",
        "regressor.fit(X_train, y_train)"
      ],
      "execution_count": null,
      "outputs": []
    },
    {
      "cell_type": "code",
      "metadata": {
        "id": "WZv44Ho5_Q01",
        "colab_type": "code",
        "colab": {}
      },
      "source": [
        "#Probar el modelo entrenado y comparar las predicciones del modelo con el test set\n",
        "y_pred = regressor.predict(X_test)\n",
        "np.set_printoptions(precision=2)\n",
        "print(np.concatenate((y_pred.reshape(len(y_pred), 1), y_test.reshape(len(y_test), 1)),1))"
      ],
      "execution_count": null,
      "outputs": []
    },
    {
      "cell_type": "code",
      "metadata": {
        "id": "LomEKANaCumg",
        "colab_type": "code",
        "colab": {}
      },
      "source": [
        "#Ahora se realiza un pronostico con el modelo entrenado\n",
        "#Para este caso, se quiere estimar cual seria el profit de una startup con:\n",
        "#R&D Spend = 160000, Administration Spend = 130000, Marketing Spend = 300000 and State = California\n",
        "print(regressor.predict([[1, 0, 0, 160000, 130000, 300000]]))"
      ],
      "execution_count": null,
      "outputs": []
    },
    {
      "cell_type": "code",
      "metadata": {
        "id": "IrBYtj4rCC65",
        "colab_type": "code",
        "colab": {}
      },
      "source": [
        "#Coeficientes del modelo de regresion\n",
        "print(regressor.intercept_)\n",
        "print(regressor.coef_)"
      ],
      "execution_count": null,
      "outputs": []
    },
    {
      "cell_type": "code",
      "metadata": {
        "id": "AaXaqF3ACoTR",
        "colab_type": "code",
        "colab": {}
      },
      "source": [
        "#Calcular el R2\n",
        "from sklearn.metrics import r2_score\n",
        "r2 = r2_score(y_test, y_pred)\n",
        "\n",
        "#Calcular una medida de error, en este caso se elige mse\n",
        "from sklearn.metrics import mean_squared_error\n",
        "mse = mean_squared_error(y_test, y_pred)"
      ],
      "execution_count": null,
      "outputs": []
    }
  ]
}