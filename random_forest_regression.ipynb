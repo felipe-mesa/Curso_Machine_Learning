{
  "nbformat": 4,
  "nbformat_minor": 0,
  "metadata": {
    "colab": {
      "name": "random_forest_regression.ipynb",
      "provenance": [],
      "authorship_tag": "ABX9TyOhsk8B+lVhk98jG2o+R0wI",
      "include_colab_link": true
    },
    "kernelspec": {
      "name": "python3",
      "display_name": "Python 3"
    }
  },
  "cells": [
    {
      "cell_type": "markdown",
      "metadata": {
        "id": "view-in-github",
        "colab_type": "text"
      },
      "source": [
        "<a href=\"https://colab.research.google.com/github/felipe-mesa/Machine_Learning_Python/blob/master/random_forest_regression.ipynb\" target=\"_parent\"><img src=\"https://colab.research.google.com/assets/colab-badge.svg\" alt=\"Open In Colab\"/></a>"
      ]
    },
    {
      "cell_type": "code",
      "metadata": {
        "id": "EpAPI4QCmxHa",
        "colab_type": "code",
        "colab": {}
      },
      "source": [
        "#Importar Librerias\n",
        "import numpy as np\n",
        "import pandas as pd\n",
        "import matplotlib.pyplot as plt"
      ],
      "execution_count": 1,
      "outputs": []
    },
    {
      "cell_type": "code",
      "metadata": {
        "id": "5DGD0S83nB25",
        "colab_type": "code",
        "colab": {}
      },
      "source": [
        "#Leer el set de datos\n",
        "dataset = pd.read_csv('/content/Position_Salaries.csv')"
      ],
      "execution_count": 2,
      "outputs": []
    },
    {
      "cell_type": "code",
      "metadata": {
        "id": "L3UR4TkqnGsZ",
        "colab_type": "code",
        "colab": {}
      },
      "source": [
        "#Separa el dataset en una matriz X de variables independientes y un vector y de la variable dependiente\n",
        "X = dataset.iloc[:, 1:-1].values\n",
        "y = dataset.iloc[:, -1].values"
      ],
      "execution_count": 3,
      "outputs": []
    },
    {
      "cell_type": "code",
      "metadata": {
        "id": "dzsguO6YnJ6B",
        "colab_type": "code",
        "colab": {}
      },
      "source": [
        "#Separar los datos en train y test set\n",
        "from sklearn.model_selection import train_test_split\n",
        "X_train, X_test, y_train, y_test = train_test_split(X, y, test_size = 0.2, random_state=0)"
      ],
      "execution_count": 4,
      "outputs": []
    },
    {
      "cell_type": "code",
      "metadata": {
        "id": "wIKl3A39nPI1",
        "colab_type": "code",
        "colab": {}
      },
      "source": [
        "#Importar libreria de random forest regressor y entrenar el modelo\n",
        "from sklearn.ensemble import RandomForestRegressor\n",
        "regressor1 = RandomForestRegressor(n_estimators = 10, random_state = 0)\n",
        "regressor1.fit(X, y)"
      ],
      "execution_count": null,
      "outputs": []
    },
    {
      "cell_type": "code",
      "metadata": {
        "colab_type": "code",
        "id": "K1jlPEerqDe7",
        "colab": {}
      },
      "source": [
        "#Importar libreria de arbol de desicion y entrenar el modelo\n",
        "from sklearn.ensemble import RandomForestRegressor\n",
        "regressor2 = RandomForestRegressor(n_estimators = 10, random_state = 0)\n",
        "regressor2.fit(X_train, y_train)"
      ],
      "execution_count": null,
      "outputs": []
    },
    {
      "cell_type": "code",
      "metadata": {
        "id": "qiVDVTh-qT5A",
        "colab_type": "code",
        "colab": {}
      },
      "source": [
        "#Predecir nuevos valores (single value)\n",
        "y_pred = regressor2.predict([[6.5]])\n",
        "y_pred"
      ],
      "execution_count": null,
      "outputs": []
    },
    {
      "cell_type": "code",
      "metadata": {
        "id": "5kvomkGxrEYe",
        "colab_type": "code",
        "colab": {
          "base_uri": "https://localhost:8080/",
          "height": 295
        },
        "outputId": "c0f9a20d-a497-4a9f-ae5a-8492879a980c"
      },
      "source": [
        "#Visualizar los resultados del Random Forest Regressor (2D)\n",
        "X_grid = np.arange(min(X), max(X), 0.01)\n",
        "X_grid = X_grid.reshape((len(X_grid), 1))\n",
        "plt.scatter(X, y, color = 'red')\n",
        "plt.plot(X_grid, regressor1.predict(X_grid), color = 'blue')\n",
        "plt.title('Truth or Bluff (Desicion Tree)')\n",
        "plt.xlabel('Position level')\n",
        "plt.ylabel('Salary')\n",
        "plt.show()"
      ],
      "execution_count": 12,
      "outputs": [
        {
          "output_type": "display_data",
          "data": {
            "image/png": "[encoded data removed]",
            "text/plain": [
              "<Figure size 432x288 with 1 Axes>"
            ]
          },
          "metadata": {
            "tags": [],
            "needs_background": "light"
          }
        }
      ]
    }
  ]
}